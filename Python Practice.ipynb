{
 "cells": [
  {
   "cell_type": "code",
   "execution_count": 1,
   "id": "211b6a9b",
   "metadata": {},
   "outputs": [],
   "source": [
    "my_str = 'Shreya Satpute'"
   ]
  },
  {
   "cell_type": "code",
   "execution_count": 2,
   "id": "d84dc355",
   "metadata": {},
   "outputs": [
    {
     "data": {
      "text/plain": [
       "False"
      ]
     },
     "execution_count": 2,
     "metadata": {},
     "output_type": "execute_result"
    }
   ],
   "source": [
    "my_str.isspace()"
   ]
  },
  {
   "cell_type": "code",
   "execution_count": 3,
   "id": "40e81ec2",
   "metadata": {},
   "outputs": [
    {
     "data": {
      "text/plain": [
       "False"
      ]
     },
     "execution_count": 3,
     "metadata": {},
     "output_type": "execute_result"
    }
   ],
   "source": [
    "my_str.isalnum()"
   ]
  },
  {
   "cell_type": "code",
   "execution_count": 4,
   "id": "5c8eabbe",
   "metadata": {},
   "outputs": [
    {
     "data": {
      "text/plain": [
       "False"
      ]
     },
     "execution_count": 4,
     "metadata": {},
     "output_type": "execute_result"
    }
   ],
   "source": [
    "my_str.isalpha()"
   ]
  },
  {
   "cell_type": "code",
   "execution_count": 5,
   "id": "e1ebeac3",
   "metadata": {},
   "outputs": [
    {
     "data": {
      "text/plain": [
       "True"
      ]
     },
     "execution_count": 5,
     "metadata": {},
     "output_type": "execute_result"
    }
   ],
   "source": [
    "my_str.istitle()"
   ]
  },
  {
   "cell_type": "code",
   "execution_count": 6,
   "id": "9999ce21",
   "metadata": {},
   "outputs": [],
   "source": [
    "my_str2 = 'ShreyaSatpute'"
   ]
  },
  {
   "cell_type": "code",
   "execution_count": 7,
   "id": "b397f289",
   "metadata": {},
   "outputs": [
    {
     "data": {
      "text/plain": [
       "False"
      ]
     },
     "execution_count": 7,
     "metadata": {},
     "output_type": "execute_result"
    }
   ],
   "source": [
    "my_str2.istitle()"
   ]
  },
  {
   "cell_type": "code",
   "execution_count": 8,
   "id": "70ccbae3",
   "metadata": {},
   "outputs": [
    {
     "data": {
      "text/plain": [
       "True"
      ]
     },
     "execution_count": 8,
     "metadata": {},
     "output_type": "execute_result"
    }
   ],
   "source": [
    "my_str2.isalpha()"
   ]
  },
  {
   "cell_type": "code",
   "execution_count": 9,
   "id": "656daf41",
   "metadata": {},
   "outputs": [],
   "source": [
    "my_str3 = 'ShreyaSatpute2'"
   ]
  },
  {
   "cell_type": "code",
   "execution_count": 10,
   "id": "e30607bf",
   "metadata": {},
   "outputs": [
    {
     "data": {
      "text/plain": [
       "False"
      ]
     },
     "execution_count": 10,
     "metadata": {},
     "output_type": "execute_result"
    }
   ],
   "source": [
    "my_str3.istitle()"
   ]
  },
  {
   "cell_type": "code",
   "execution_count": 11,
   "id": "d842738c",
   "metadata": {},
   "outputs": [
    {
     "data": {
      "text/plain": [
       "True"
      ]
     },
     "execution_count": 11,
     "metadata": {},
     "output_type": "execute_result"
    }
   ],
   "source": [
    "my_str3.isalnum()"
   ]
  },
  {
   "cell_type": "code",
   "execution_count": 12,
   "id": "ef4737f9",
   "metadata": {},
   "outputs": [],
   "source": [
    "my_str1 = 'Shreya Satpute12'"
   ]
  },
  {
   "cell_type": "code",
   "execution_count": 13,
   "id": "da6d758a",
   "metadata": {},
   "outputs": [
    {
     "data": {
      "text/plain": [
       "False"
      ]
     },
     "execution_count": 13,
     "metadata": {},
     "output_type": "execute_result"
    }
   ],
   "source": [
    "my_str1.isspace()"
   ]
  },
  {
   "cell_type": "code",
   "execution_count": 14,
   "id": "136a374e",
   "metadata": {},
   "outputs": [
    {
     "data": {
      "text/plain": [
       "False"
      ]
     },
     "execution_count": 14,
     "metadata": {},
     "output_type": "execute_result"
    }
   ],
   "source": [
    "my_str1.isalpha()"
   ]
  },
  {
   "cell_type": "code",
   "execution_count": 15,
   "id": "de1a14ce",
   "metadata": {},
   "outputs": [
    {
     "data": {
      "text/plain": [
       "False"
      ]
     },
     "execution_count": 15,
     "metadata": {},
     "output_type": "execute_result"
    }
   ],
   "source": [
    "my_str1.isdigit()"
   ]
  },
  {
   "cell_type": "code",
   "execution_count": 16,
   "id": "1b968d86",
   "metadata": {},
   "outputs": [
    {
     "data": {
      "text/plain": [
       "False"
      ]
     },
     "execution_count": 16,
     "metadata": {},
     "output_type": "execute_result"
    }
   ],
   "source": [
    "my_str1.isalnum()"
   ]
  },
  {
   "attachments": {},
   "cell_type": "markdown",
   "id": "3ef0ed38",
   "metadata": {},
   "source": [
    "### List\n"
   ]
  },
  {
   "cell_type": "code",
   "execution_count": 17,
   "id": "b246ec19",
   "metadata": {},
   "outputs": [],
   "source": [
    "lst = list()"
   ]
  },
  {
   "cell_type": "code",
   "execution_count": 18,
   "id": "d6f3b143",
   "metadata": {},
   "outputs": [
    {
     "data": {
      "text/plain": [
       "list"
      ]
     },
     "execution_count": 18,
     "metadata": {},
     "output_type": "execute_result"
    }
   ],
   "source": [
    "type(lst)"
   ]
  },
  {
   "cell_type": "code",
   "execution_count": 19,
   "id": "7b00114b",
   "metadata": {},
   "outputs": [],
   "source": [
    "lst = ['Math', 'CS',1,2,3,4,]"
   ]
  },
  {
   "cell_type": "code",
   "execution_count": 20,
   "id": "068a3064",
   "metadata": {},
   "outputs": [
    {
     "data": {
      "text/plain": [
       "6"
      ]
     },
     "execution_count": 20,
     "metadata": {},
     "output_type": "execute_result"
    }
   ],
   "source": [
    "len(lst)"
   ]
  },
  {
   "cell_type": "code",
   "execution_count": 21,
   "id": "1e5fa0d1",
   "metadata": {},
   "outputs": [],
   "source": [
    "# Append is to add element in the list at the end\n",
    "\n",
    "lst.append('Bunty')"
   ]
  },
  {
   "cell_type": "code",
   "execution_count": 22,
   "id": "b786331f",
   "metadata": {
    "scrolled": true
   },
   "outputs": [
    {
     "data": {
      "text/plain": [
       "['Math', 'CS', 1, 2, 3, 4, 'Bunty']"
      ]
     },
     "execution_count": 22,
     "metadata": {},
     "output_type": "execute_result"
    }
   ],
   "source": [
    "lst"
   ]
  },
  {
   "cell_type": "code",
   "execution_count": 23,
   "id": "ef74de8a",
   "metadata": {},
   "outputs": [
    {
     "data": {
      "text/plain": [
       "'Bunty'"
      ]
     },
     "execution_count": 23,
     "metadata": {},
     "output_type": "execute_result"
    }
   ],
   "source": [
    "# indexing\n",
    "\n",
    "lst[6]"
   ]
  },
  {
   "cell_type": "code",
   "execution_count": 24,
   "id": "5facd685",
   "metadata": {},
   "outputs": [
    {
     "data": {
      "text/plain": [
       "['Math', 'CS', 1, 2, 3]"
      ]
     },
     "execution_count": 24,
     "metadata": {},
     "output_type": "execute_result"
    }
   ],
   "source": [
    "lst[ :5]"
   ]
  },
  {
   "cell_type": "code",
   "execution_count": 25,
   "id": "090aad6c",
   "metadata": {},
   "outputs": [
    {
     "data": {
      "text/plain": [
       "[2, 3, 4, 'Bunty']"
      ]
     },
     "execution_count": 25,
     "metadata": {},
     "output_type": "execute_result"
    }
   ],
   "source": [
    "lst[3:]"
   ]
  },
  {
   "cell_type": "code",
   "execution_count": 26,
   "id": "e9e3d5c1",
   "metadata": {},
   "outputs": [],
   "source": [
    "# Insert used to add element in specific order\n",
    "\n",
    "lst.insert(2,'Analytic')"
   ]
  },
  {
   "cell_type": "code",
   "execution_count": 27,
   "id": "bee1b46d",
   "metadata": {},
   "outputs": [
    {
     "data": {
      "text/plain": [
       "['Math', 'CS', 'Analytic', 1, 2, 3, 4, 'Bunty']"
      ]
     },
     "execution_count": 27,
     "metadata": {},
     "output_type": "execute_result"
    }
   ],
   "source": [
    "lst"
   ]
  },
  {
   "cell_type": "code",
   "execution_count": 28,
   "id": "0511d367",
   "metadata": {},
   "outputs": [],
   "source": [
    "lst.append(['Hello World'])"
   ]
  },
  {
   "cell_type": "code",
   "execution_count": 29,
   "id": "b3f7ff4e",
   "metadata": {},
   "outputs": [
    {
     "data": {
      "text/plain": [
       "['Math', 'CS', 'Analytic', 1, 2, 3, 4, 'Bunty', ['Hello World']]"
      ]
     },
     "execution_count": 29,
     "metadata": {},
     "output_type": "execute_result"
    }
   ],
   "source": [
    "lst"
   ]
  },
  {
   "cell_type": "code",
   "execution_count": 30,
   "id": "05b3625a",
   "metadata": {},
   "outputs": [],
   "source": [
    "lst = [2,3,4]"
   ]
  },
  {
   "cell_type": "code",
   "execution_count": 31,
   "id": "f29b7efb",
   "metadata": {},
   "outputs": [
    {
     "data": {
      "text/plain": [
       "[2, 3, 4]"
      ]
     },
     "execution_count": 31,
     "metadata": {},
     "output_type": "execute_result"
    }
   ],
   "source": [
    "lst"
   ]
  },
  {
   "cell_type": "code",
   "execution_count": 32,
   "id": "cbaf4e86",
   "metadata": {},
   "outputs": [],
   "source": [
    "lst.extend([5,6])"
   ]
  },
  {
   "cell_type": "code",
   "execution_count": 33,
   "id": "9d599c04",
   "metadata": {},
   "outputs": [
    {
     "data": {
      "text/plain": [
       "[2, 3, 4, 5, 6]"
      ]
     },
     "execution_count": 33,
     "metadata": {},
     "output_type": "execute_result"
    }
   ],
   "source": [
    "lst"
   ]
  },
  {
   "cell_type": "code",
   "execution_count": 34,
   "id": "2005080f",
   "metadata": {},
   "outputs": [],
   "source": [
    "lst.append([7,8])"
   ]
  },
  {
   "cell_type": "code",
   "execution_count": 35,
   "id": "df429e3d",
   "metadata": {},
   "outputs": [
    {
     "data": {
      "text/plain": [
       "[2, 3, 4, 5, 6, [7, 8]]"
      ]
     },
     "execution_count": 35,
     "metadata": {},
     "output_type": "execute_result"
    }
   ],
   "source": [
    "lst"
   ]
  },
  {
   "cell_type": "code",
   "execution_count": 36,
   "id": "bc478616",
   "metadata": {},
   "outputs": [
    {
     "data": {
      "text/plain": [
       "[7, 8]"
      ]
     },
     "execution_count": 36,
     "metadata": {},
     "output_type": "execute_result"
    }
   ],
   "source": [
    "lst.pop() \n",
    "\n",
    "# by default remove last element"
   ]
  },
  {
   "cell_type": "code",
   "execution_count": 37,
   "id": "bee1cc91",
   "metadata": {},
   "outputs": [
    {
     "data": {
      "text/plain": [
       "[2, 3, 4, 5, 6]"
      ]
     },
     "execution_count": 37,
     "metadata": {},
     "output_type": "execute_result"
    }
   ],
   "source": [
    "lst"
   ]
  },
  {
   "cell_type": "code",
   "execution_count": 38,
   "id": "e05b7aa3",
   "metadata": {},
   "outputs": [
    {
     "data": {
      "text/plain": [
       "20"
      ]
     },
     "execution_count": 38,
     "metadata": {},
     "output_type": "execute_result"
    }
   ],
   "source": [
    "sum(lst)"
   ]
  },
  {
   "cell_type": "code",
   "execution_count": 39,
   "id": "31f5e88d",
   "metadata": {},
   "outputs": [
    {
     "data": {
      "text/plain": [
       "[2, 3, 4, 5, 6, 2, 3, 4, 5, 6]"
      ]
     },
     "execution_count": 39,
     "metadata": {},
     "output_type": "execute_result"
    }
   ],
   "source": [
    "lst*2\n",
    "\n",
    "# append whole list 2 times"
   ]
  },
  {
   "cell_type": "code",
   "execution_count": 40,
   "id": "2c41029d",
   "metadata": {},
   "outputs": [],
   "source": [
    "lst = [1,1,1,1,2,3,4]"
   ]
  },
  {
   "cell_type": "code",
   "execution_count": 41,
   "id": "7f447b4a",
   "metadata": {},
   "outputs": [
    {
     "data": {
      "text/plain": [
       "4"
      ]
     },
     "execution_count": 41,
     "metadata": {},
     "output_type": "execute_result"
    }
   ],
   "source": [
    "lst.count(1)"
   ]
  },
  {
   "cell_type": "code",
   "execution_count": 42,
   "id": "b0f15bae",
   "metadata": {},
   "outputs": [
    {
     "data": {
      "text/plain": [
       "2"
      ]
     },
     "execution_count": 42,
     "metadata": {},
     "output_type": "execute_result"
    }
   ],
   "source": [
    "lst.index(1,2,5)\n",
    "\n",
    "# returns the index of first occurance.\n",
    "# Start and End index are not necessary parameters"
   ]
  },
  {
   "cell_type": "code",
   "execution_count": 43,
   "id": "b8ed6ac2",
   "metadata": {},
   "outputs": [
    {
     "data": {
      "text/plain": [
       "4"
      ]
     },
     "execution_count": 43,
     "metadata": {},
     "output_type": "execute_result"
    }
   ],
   "source": [
    "lst.index(2,2,5)"
   ]
  },
  {
   "cell_type": "code",
   "execution_count": 44,
   "id": "c9a6d3a9",
   "metadata": {},
   "outputs": [
    {
     "data": {
      "text/plain": [
       "0"
      ]
     },
     "execution_count": 44,
     "metadata": {},
     "output_type": "execute_result"
    }
   ],
   "source": [
    "lst.index(1,0,4)"
   ]
  },
  {
   "attachments": {},
   "cell_type": "markdown",
   "id": "94a0abe8",
   "metadata": {},
   "source": [
    "### Sets"
   ]
  },
  {
   "attachments": {},
   "cell_type": "markdown",
   "id": "79582d6b",
   "metadata": {},
   "source": [
    "Set is unordered collection of data type that is iterable, mutable, and has no duplicates. It is Based on data structure known as hash table."
   ]
  },
  {
   "cell_type": "code",
   "execution_count": 45,
   "id": "05081244",
   "metadata": {},
   "outputs": [
    {
     "name": "stdout",
     "output_type": "stream",
     "text": [
      "set()\n"
     ]
    }
   ],
   "source": [
    "# Defining an empty set\n",
    "\n",
    "set_var = set()\n",
    "print(set_var)\n"
   ]
  },
  {
   "cell_type": "code",
   "execution_count": 46,
   "id": "8e2be1dc",
   "metadata": {},
   "outputs": [
    {
     "name": "stdout",
     "output_type": "stream",
     "text": [
      "<class 'set'>\n"
     ]
    }
   ],
   "source": [
    "print(type(set_var))"
   ]
  },
  {
   "cell_type": "code",
   "execution_count": 47,
   "id": "6f99f9b0",
   "metadata": {},
   "outputs": [
    {
     "name": "stdout",
     "output_type": "stream",
     "text": [
      "{1, 2, 3, 4, 5}\n"
     ]
    }
   ],
   "source": [
    "set_var = {1,2,3,4,5} \n",
    "print(set_var)"
   ]
  },
  {
   "cell_type": "code",
   "execution_count": 48,
   "id": "8d89d72c",
   "metadata": {},
   "outputs": [
    {
     "name": "stdout",
     "output_type": "stream",
     "text": [
      "{'Avengers', 'Ironman', 'Hitman'}\n"
     ]
    }
   ],
   "source": [
    "set1 = {'Avengers','Ironman','Hitman'}\n",
    "print(set1)"
   ]
  },
  {
   "cell_type": "code",
   "execution_count": 50,
   "id": "dfbb03e7",
   "metadata": {},
   "outputs": [
    {
     "ename": "TypeError",
     "evalue": "'set' object is not subscriptable",
     "output_type": "error",
     "traceback": [
      "\u001b[1;31m---------------------------------------------------------------------------\u001b[0m",
      "\u001b[1;31mTypeError\u001b[0m                                 Traceback (most recent call last)",
      "Cell \u001b[1;32mIn[50], line 3\u001b[0m\n\u001b[0;32m      1\u001b[0m \u001b[38;5;66;03m# dose not support indexing\u001b[39;00m\n\u001b[1;32m----> 3\u001b[0m \u001b[43mset_var\u001b[49m\u001b[43m[\u001b[49m\u001b[38;5;241;43m0\u001b[39;49m\u001b[43m]\u001b[49m\n",
      "\u001b[1;31mTypeError\u001b[0m: 'set' object is not subscriptable"
     ]
    }
   ],
   "source": [
    "# dose not support indexing\n",
    "\n",
    "set_var[0]"
   ]
  },
  {
   "cell_type": "code",
   "execution_count": 51,
   "id": "af15a540",
   "metadata": {},
   "outputs": [
    {
     "ename": "TypeError",
     "evalue": "'set' object is not subscriptable",
     "output_type": "error",
     "traceback": [
      "\u001b[1;31m---------------------------------------------------------------------------\u001b[0m",
      "\u001b[1;31mTypeError\u001b[0m                                 Traceback (most recent call last)",
      "Cell \u001b[1;32mIn[51], line 1\u001b[0m\n\u001b[1;32m----> 1\u001b[0m \u001b[43mset1\u001b[49m\u001b[43m[\u001b[49m\u001b[38;5;124;43m'\u001b[39;49m\u001b[38;5;124;43mAvengers\u001b[39;49m\u001b[38;5;124;43m'\u001b[39;49m\u001b[43m]\u001b[49m\n",
      "\u001b[1;31mTypeError\u001b[0m: 'set' object is not subscriptable"
     ]
    }
   ],
   "source": [
    "set1['Avengers']"
   ]
  },
  {
   "cell_type": "code",
   "execution_count": 52,
   "id": "151546fe",
   "metadata": {},
   "outputs": [],
   "source": [
    "# Inbuilt function in sets\n",
    "set1.add('Hulk')"
   ]
  },
  {
   "cell_type": "code",
   "execution_count": 53,
   "id": "0fe21d1b",
   "metadata": {},
   "outputs": [
    {
     "name": "stdout",
     "output_type": "stream",
     "text": [
      "{'Avengers', 'Hulk', 'Ironman', 'Hitman'}\n"
     ]
    }
   ],
   "source": [
    "print(set1)"
   ]
  },
  {
   "cell_type": "code",
   "execution_count": 54,
   "id": "0d4d89f4",
   "metadata": {},
   "outputs": [],
   "source": [
    "set2 = {'Avengers','Ironman','Hitman','Hulk2'}\n"
   ]
  },
  {
   "cell_type": "code",
   "execution_count": 55,
   "id": "943b4ede",
   "metadata": {},
   "outputs": [
    {
     "data": {
      "text/plain": [
       "{'Avengers', 'Hitman', 'Ironman'}"
      ]
     },
     "execution_count": 55,
     "metadata": {},
     "output_type": "execute_result"
    }
   ],
   "source": [
    "set2.intersection(set1)"
   ]
  },
  {
   "cell_type": "code",
   "execution_count": 56,
   "id": "edf840ba",
   "metadata": {},
   "outputs": [],
   "source": [
    "set2.intersection_update(set1)"
   ]
  },
  {
   "cell_type": "code",
   "execution_count": 57,
   "id": "b7fee1d6",
   "metadata": {},
   "outputs": [
    {
     "data": {
      "text/plain": [
       "{'Avengers', 'Hitman', 'Ironman'}"
      ]
     },
     "execution_count": 57,
     "metadata": {},
     "output_type": "execute_result"
    }
   ],
   "source": [
    "set2"
   ]
  },
  {
   "cell_type": "code",
   "execution_count": 58,
   "id": "2af55240",
   "metadata": {},
   "outputs": [
    {
     "data": {
      "text/plain": [
       "set()"
      ]
     },
     "execution_count": 58,
     "metadata": {},
     "output_type": "execute_result"
    }
   ],
   "source": [
    "set2.difference(set1)\n",
    "\n",
    "# difference function dose not update the final output in set2"
   ]
  },
  {
   "cell_type": "code",
   "execution_count": 59,
   "id": "d6b1cb6c",
   "metadata": {},
   "outputs": [],
   "source": [
    "# to update difference use function difference_update\n",
    "\n",
    "set2.difference_update(set1)"
   ]
  },
  {
   "cell_type": "code",
   "execution_count": 60,
   "id": "597196bf",
   "metadata": {},
   "outputs": [
    {
     "data": {
      "text/plain": [
       "set()"
      ]
     },
     "execution_count": 60,
     "metadata": {},
     "output_type": "execute_result"
    }
   ],
   "source": [
    "set2"
   ]
  },
  {
   "attachments": {},
   "cell_type": "markdown",
   "id": "00f99ab8",
   "metadata": {},
   "source": [
    "### Dictionaries"
   ]
  },
  {
   "attachments": {},
   "cell_type": "markdown",
   "id": "a87421fc",
   "metadata": {},
   "source": [
    "Dictionasy is unordered collection which is mutable and indexed. It has key-value pair."
   ]
  },
  {
   "cell_type": "code",
   "execution_count": 61,
   "id": "bb6b6390",
   "metadata": {},
   "outputs": [],
   "source": [
    "dic={}"
   ]
  },
  {
   "cell_type": "code",
   "execution_count": 62,
   "id": "68c0f3ee",
   "metadata": {},
   "outputs": [
    {
     "data": {
      "text/plain": [
       "dict"
      ]
     },
     "execution_count": 62,
     "metadata": {},
     "output_type": "execute_result"
    }
   ],
   "source": [
    "type(dic)"
   ]
  },
  {
   "cell_type": "code",
   "execution_count": 63,
   "id": "b83c0868",
   "metadata": {},
   "outputs": [],
   "source": [
    "dic = {1,2,3,4,5}"
   ]
  },
  {
   "cell_type": "code",
   "execution_count": 64,
   "id": "149ece05",
   "metadata": {},
   "outputs": [
    {
     "data": {
      "text/plain": [
       "set"
      ]
     },
     "execution_count": 64,
     "metadata": {},
     "output_type": "execute_result"
    }
   ],
   "source": [
    "type(dic)"
   ]
  },
  {
   "cell_type": "code",
   "execution_count": 65,
   "id": "a063c14f",
   "metadata": {},
   "outputs": [],
   "source": [
    "dict = {\"a\":1,\"b\":2,\"c\":3}"
   ]
  },
  {
   "cell_type": "code",
   "execution_count": 66,
   "id": "c3d0796a",
   "metadata": {},
   "outputs": [
    {
     "data": {
      "text/plain": [
       "dict"
      ]
     },
     "execution_count": 66,
     "metadata": {},
     "output_type": "execute_result"
    }
   ],
   "source": [
    "type(dict)"
   ]
  },
  {
   "cell_type": "code",
   "execution_count": 67,
   "id": "30aa4a0a",
   "metadata": {},
   "outputs": [
    {
     "name": "stdout",
     "output_type": "stream",
     "text": [
      "{'a': 1, 'b': 2, 'c': 3}\n"
     ]
    }
   ],
   "source": [
    "print(dict)"
   ]
  },
  {
   "cell_type": "code",
   "execution_count": 68,
   "id": "7ec694ef",
   "metadata": {},
   "outputs": [
    {
     "data": {
      "text/plain": [
       "1"
      ]
     },
     "execution_count": 68,
     "metadata": {},
     "output_type": "execute_result"
    }
   ],
   "source": [
    "\n",
    "# indexing is ur key name\n",
    "# access the item values based on keys\n",
    "\n",
    "dict['a']"
   ]
  },
  {
   "cell_type": "code",
   "execution_count": 69,
   "id": "e33b7f12",
   "metadata": {},
   "outputs": [
    {
     "name": "stdout",
     "output_type": "stream",
     "text": [
      "a\n",
      "b\n",
      "c\n"
     ]
    }
   ],
   "source": [
    "# looping through the dictonary values\n",
    "\n",
    "for x in dict:\n",
    "    print(x)"
   ]
  },
  {
   "cell_type": "code",
   "execution_count": 70,
   "id": "6782d27a",
   "metadata": {},
   "outputs": [
    {
     "name": "stdout",
     "output_type": "stream",
     "text": [
      "1\n",
      "2\n",
      "3\n"
     ]
    }
   ],
   "source": [
    "for x in dict.values():\n",
    "    print(x)"
   ]
  },
  {
   "cell_type": "code",
   "execution_count": 71,
   "id": "038fb17a",
   "metadata": {},
   "outputs": [
    {
     "name": "stdout",
     "output_type": "stream",
     "text": [
      "('a', 1)\n",
      "('b', 2)\n",
      "('c', 3)\n"
     ]
    }
   ],
   "source": [
    "# check both keys and values\n",
    "\n",
    "for x in dict.items():\n",
    "    print(x)"
   ]
  },
  {
   "cell_type": "code",
   "execution_count": 72,
   "id": "56a2f791",
   "metadata": {},
   "outputs": [],
   "source": [
    "# adding item in dict\n",
    "\n",
    "dict['d']=4"
   ]
  },
  {
   "cell_type": "code",
   "execution_count": 73,
   "id": "49342836",
   "metadata": {},
   "outputs": [
    {
     "data": {
      "text/plain": [
       "{'a': 1, 'b': 2, 'c': 3, 'd': 4}"
      ]
     },
     "execution_count": 73,
     "metadata": {},
     "output_type": "execute_result"
    }
   ],
   "source": [
    "dict"
   ]
  },
  {
   "cell_type": "code",
   "execution_count": 74,
   "id": "3b462bdb",
   "metadata": {},
   "outputs": [],
   "source": [
    "# values got overwritten\n",
    "\n",
    "dict['b']=8"
   ]
  },
  {
   "cell_type": "code",
   "execution_count": 75,
   "id": "a40574f9",
   "metadata": {},
   "outputs": [
    {
     "data": {
      "text/plain": [
       "{'a': 1, 'b': 8, 'c': 3, 'd': 4}"
      ]
     },
     "execution_count": 75,
     "metadata": {},
     "output_type": "execute_result"
    }
   ],
   "source": [
    "dict"
   ]
  },
  {
   "cell_type": "code",
   "execution_count": 76,
   "id": "f795f598",
   "metadata": {},
   "outputs": [],
   "source": [
    "# NESTED DICT\n",
    "\n",
    "dict1= {1:'first'}\n",
    "dict2 = {2:'Second'}\n",
    "dict3 = {3:'Third'}\n",
    "dict4 = {4:'Fourth'}\n",
    "\n",
    "new_dict = {\"a\":dict1, 'b':dict2, 'c':dict3, 'd':dict4}"
   ]
  },
  {
   "cell_type": "code",
   "execution_count": 77,
   "id": "837faeed",
   "metadata": {},
   "outputs": [
    {
     "name": "stdout",
     "output_type": "stream",
     "text": [
      "{'a': {1: 'first'}, 'b': {2: 'Second'}, 'c': {3: 'Third'}, 'd': {4: 'Fourth'}}\n"
     ]
    }
   ],
   "source": [
    "print(new_dict)"
   ]
  },
  {
   "cell_type": "code",
   "execution_count": 78,
   "id": "1821f20f",
   "metadata": {},
   "outputs": [
    {
     "name": "stdout",
     "output_type": "stream",
     "text": [
      "{2: 'Second'}\n"
     ]
    }
   ],
   "source": [
    "print(new_dict['b'])"
   ]
  },
  {
   "cell_type": "code",
   "execution_count": 79,
   "id": "5f7172aa",
   "metadata": {},
   "outputs": [
    {
     "name": "stdout",
     "output_type": "stream",
     "text": [
      "Second\n"
     ]
    }
   ],
   "source": [
    "print(new_dict['b'][2])"
   ]
  },
  {
   "attachments": {},
   "cell_type": "markdown",
   "id": "54837a76",
   "metadata": {},
   "source": [
    "### Tuples"
   ]
  },
  {
   "attachments": {},
   "cell_type": "markdown",
   "id": "485203e8",
   "metadata": {},
   "source": [
    "Tuples are immutable "
   ]
  },
  {
   "cell_type": "code",
   "execution_count": 80,
   "id": "17794e16",
   "metadata": {},
   "outputs": [],
   "source": [
    "my_tup = tuple()"
   ]
  },
  {
   "cell_type": "code",
   "execution_count": 81,
   "id": "e272a8fb",
   "metadata": {},
   "outputs": [
    {
     "data": {
      "text/plain": [
       "tuple"
      ]
     },
     "execution_count": 81,
     "metadata": {},
     "output_type": "execute_result"
    }
   ],
   "source": [
    "type(my_tup)"
   ]
  },
  {
   "cell_type": "code",
   "execution_count": 82,
   "id": "c62640e3",
   "metadata": {},
   "outputs": [],
   "source": [
    "my_tup = ()"
   ]
  },
  {
   "cell_type": "code",
   "execution_count": 83,
   "id": "1416c2e8",
   "metadata": {},
   "outputs": [
    {
     "data": {
      "text/plain": [
       "tuple"
      ]
     },
     "execution_count": 83,
     "metadata": {},
     "output_type": "execute_result"
    }
   ],
   "source": [
    "type(my_tup)"
   ]
  },
  {
   "cell_type": "code",
   "execution_count": 84,
   "id": "54e5619a",
   "metadata": {},
   "outputs": [],
   "source": [
    "tup = ('shre', 'oja')"
   ]
  },
  {
   "cell_type": "code",
   "execution_count": 85,
   "id": "063b01a0",
   "metadata": {},
   "outputs": [
    {
     "name": "stdout",
     "output_type": "stream",
     "text": [
      "('shre', 'oja')\n"
     ]
    }
   ],
   "source": [
    "print(tup)"
   ]
  },
  {
   "cell_type": "code",
   "execution_count": 86,
   "id": "810e7511",
   "metadata": {},
   "outputs": [
    {
     "data": {
      "text/plain": [
       "'shre'"
      ]
     },
     "execution_count": 86,
     "metadata": {},
     "output_type": "execute_result"
    }
   ],
   "source": [
    "tup[0]"
   ]
  },
  {
   "cell_type": "code",
   "execution_count": 87,
   "id": "107f1c6a",
   "metadata": {},
   "outputs": [
    {
     "ename": "TypeError",
     "evalue": "'tuple' object does not support item assignment",
     "output_type": "error",
     "traceback": [
      "\u001b[1;31m---------------------------------------------------------------------------\u001b[0m",
      "\u001b[1;31mTypeError\u001b[0m                                 Traceback (most recent call last)",
      "Cell \u001b[1;32mIn[87], line 1\u001b[0m\n\u001b[1;32m----> 1\u001b[0m tup[\u001b[38;5;241m0\u001b[39m]\u001b[38;5;241m=\u001b[39m\u001b[38;5;124m'\u001b[39m\u001b[38;5;124msam\u001b[39m\u001b[38;5;124m'\u001b[39m\n",
      "\u001b[1;31mTypeError\u001b[0m: 'tuple' object does not support item assignment"
     ]
    }
   ],
   "source": [
    "tup[0]='sam'\n",
    "\n",
    "# dose not support item assignment"
   ]
  },
  {
   "cell_type": "code",
   "execution_count": 88,
   "id": "c5dba2db",
   "metadata": {},
   "outputs": [
    {
     "data": {
      "text/plain": [
       "1"
      ]
     },
     "execution_count": 88,
     "metadata": {},
     "output_type": "execute_result"
    }
   ],
   "source": [
    "tup.index('oja')"
   ]
  },
  {
   "attachments": {},
   "cell_type": "markdown",
   "id": "f1225e2f",
   "metadata": {},
   "source": [
    "### Numpy"
   ]
  },
  {
   "attachments": {},
   "cell_type": "markdown",
   "id": "6c331394",
   "metadata": {},
   "source": [
    "General purpose array processing package. Create multidimensional array, \n",
    "provides high performance multidimensional array object, and tools for working with these array. Numpy has binding of cpp library therefore operatin take place fast."
   ]
  },
  {
   "attachments": {},
   "cell_type": "markdown",
   "id": "090e85ab",
   "metadata": {},
   "source": [
    "Array data structure that stores values of same data type. Array operation are very very fast. "
   ]
  },
  {
   "cell_type": "code",
   "execution_count": 89,
   "id": "d4afcb13",
   "metadata": {},
   "outputs": [],
   "source": [
    "import numpy as np"
   ]
  },
  {
   "cell_type": "code",
   "execution_count": 90,
   "id": "1e23372d",
   "metadata": {},
   "outputs": [],
   "source": [
    "my_lst = [1,2,3,4,5]"
   ]
  },
  {
   "cell_type": "code",
   "execution_count": 91,
   "id": "a7724781",
   "metadata": {},
   "outputs": [],
   "source": [
    "arr = np.array(my_lst)"
   ]
  },
  {
   "cell_type": "code",
   "execution_count": 92,
   "id": "68182ce5",
   "metadata": {},
   "outputs": [
    {
     "data": {
      "text/plain": [
       "array([1, 2, 3, 4, 5])"
      ]
     },
     "execution_count": 92,
     "metadata": {},
     "output_type": "execute_result"
    }
   ],
   "source": [
    "arr #1D array"
   ]
  },
  {
   "cell_type": "code",
   "execution_count": 93,
   "id": "7df8b449",
   "metadata": {},
   "outputs": [
    {
     "name": "stdout",
     "output_type": "stream",
     "text": [
      "[1 2 3 4 5]\n"
     ]
    }
   ],
   "source": [
    "print(arr)"
   ]
  },
  {
   "cell_type": "code",
   "execution_count": 94,
   "id": "cf73d9bf",
   "metadata": {},
   "outputs": [
    {
     "data": {
      "text/plain": [
       "numpy.ndarray"
      ]
     },
     "execution_count": 94,
     "metadata": {},
     "output_type": "execute_result"
    }
   ],
   "source": [
    "type(arr)"
   ]
  },
  {
   "cell_type": "code",
   "execution_count": 95,
   "id": "9db8623e",
   "metadata": {},
   "outputs": [
    {
     "data": {
      "text/plain": [
       "(5,)"
      ]
     },
     "execution_count": 95,
     "metadata": {},
     "output_type": "execute_result"
    }
   ],
   "source": [
    "arr.shape"
   ]
  },
  {
   "cell_type": "code",
   "execution_count": 96,
   "id": "b553aa44",
   "metadata": {},
   "outputs": [],
   "source": [
    "# Multinested array\n",
    "\n",
    "my_lst1 = [1,2,3,4,5]\n",
    "my_lst2 = [2,3,4,5,6]\n",
    "my_lst3 = [9,8,7,6,5]\n",
    "\n",
    "arr = np.array([my_lst1, my_lst2, my_lst3])\n"
   ]
  },
  {
   "cell_type": "code",
   "execution_count": 97,
   "id": "a9f1e5e3",
   "metadata": {},
   "outputs": [
    {
     "data": {
      "text/plain": [
       "array([[1, 2, 3, 4, 5],\n",
       "       [2, 3, 4, 5, 6],\n",
       "       [9, 8, 7, 6, 5]])"
      ]
     },
     "execution_count": 97,
     "metadata": {},
     "output_type": "execute_result"
    }
   ],
   "source": [
    "arr"
   ]
  },
  {
   "cell_type": "code",
   "execution_count": 98,
   "id": "c117055b",
   "metadata": {},
   "outputs": [
    {
     "data": {
      "text/plain": [
       "(3, 5)"
      ]
     },
     "execution_count": 98,
     "metadata": {},
     "output_type": "execute_result"
    }
   ],
   "source": [
    "arr.shape"
   ]
  },
  {
   "cell_type": "code",
   "execution_count": 99,
   "id": "9a9ba95d",
   "metadata": {},
   "outputs": [
    {
     "data": {
      "text/plain": [
       "array([[1, 2, 3],\n",
       "       [4, 5, 2],\n",
       "       [3, 4, 5],\n",
       "       [6, 9, 8],\n",
       "       [7, 6, 5]])"
      ]
     },
     "execution_count": 99,
     "metadata": {},
     "output_type": "execute_result"
    }
   ],
   "source": [
    "arr.reshape(5,3)\n",
    "\n",
    "# Total array element should remain same"
   ]
  },
  {
   "cell_type": "code",
   "execution_count": 100,
   "id": "5f85722b",
   "metadata": {},
   "outputs": [
    {
     "data": {
      "text/plain": [
       "(3, 5)"
      ]
     },
     "execution_count": 100,
     "metadata": {},
     "output_type": "execute_result"
    }
   ],
   "source": [
    "arr.shape"
   ]
  },
  {
   "cell_type": "code",
   "execution_count": 101,
   "id": "b3b53091",
   "metadata": {},
   "outputs": [
    {
     "data": {
      "text/plain": [
       "15"
      ]
     },
     "execution_count": 101,
     "metadata": {},
     "output_type": "execute_result"
    }
   ],
   "source": [
    "arr.size"
   ]
  },
  {
   "cell_type": "code",
   "execution_count": 102,
   "id": "c7adc6d4",
   "metadata": {},
   "outputs": [
    {
     "data": {
      "text/plain": [
       "array([[1, 2, 3, 4, 5, 2, 3, 4, 5, 6, 9, 8, 7, 6, 5]])"
      ]
     },
     "execution_count": 102,
     "metadata": {},
     "output_type": "execute_result"
    }
   ],
   "source": [
    "arr.reshape(1,15)"
   ]
  },
  {
   "cell_type": "code",
   "execution_count": 103,
   "id": "7402d102",
   "metadata": {},
   "outputs": [
    {
     "data": {
      "text/plain": [
       "array([[1, 2, 3, 4, 5],\n",
       "       [2, 3, 4, 5, 6],\n",
       "       [9, 8, 7, 6, 5]])"
      ]
     },
     "execution_count": 103,
     "metadata": {},
     "output_type": "execute_result"
    }
   ],
   "source": [
    "# indexing\n",
    "\n",
    "arr"
   ]
  },
  {
   "cell_type": "code",
   "execution_count": 104,
   "id": "815f0b29",
   "metadata": {},
   "outputs": [
    {
     "data": {
      "text/plain": [
       "array([[5, 6],\n",
       "       [6, 5]])"
      ]
     },
     "execution_count": 104,
     "metadata": {},
     "output_type": "execute_result"
    }
   ],
   "source": [
    "arr[1:, 3:]"
   ]
  },
  {
   "cell_type": "code",
   "execution_count": 105,
   "id": "5c17bc58",
   "metadata": {},
   "outputs": [],
   "source": [
    "arr=np.arange(0,10)"
   ]
  },
  {
   "cell_type": "code",
   "execution_count": 106,
   "id": "f17280f2",
   "metadata": {},
   "outputs": [
    {
     "data": {
      "text/plain": [
       "array([0, 1, 2, 3, 4, 5, 6, 7, 8, 9])"
      ]
     },
     "execution_count": 106,
     "metadata": {},
     "output_type": "execute_result"
    }
   ],
   "source": [
    "arr"
   ]
  },
  {
   "cell_type": "code",
   "execution_count": 107,
   "id": "2c592750",
   "metadata": {},
   "outputs": [],
   "source": [
    "arr = np.arange(0,10,step=2)"
   ]
  },
  {
   "cell_type": "code",
   "execution_count": 108,
   "id": "0ff452a8",
   "metadata": {},
   "outputs": [
    {
     "data": {
      "text/plain": [
       "array([0, 2, 4, 6, 8])"
      ]
     },
     "execution_count": 108,
     "metadata": {},
     "output_type": "execute_result"
    }
   ],
   "source": [
    "arr"
   ]
  },
  {
   "cell_type": "code",
   "execution_count": 109,
   "id": "6f85c2b5",
   "metadata": {},
   "outputs": [
    {
     "data": {
      "text/plain": [
       "array([ 1.        ,  1.47368421,  1.94736842,  2.42105263,  2.89473684,\n",
       "        3.36842105,  3.84210526,  4.31578947,  4.78947368,  5.26315789,\n",
       "        5.73684211,  6.21052632,  6.68421053,  7.15789474,  7.63157895,\n",
       "        8.10526316,  8.57894737,  9.05263158,  9.52631579, 10.        ])"
      ]
     },
     "execution_count": 109,
     "metadata": {},
     "output_type": "execute_result"
    }
   ],
   "source": [
    "np.linspace(1,10,20) # how many points u want in given start and end point"
   ]
  },
  {
   "cell_type": "code",
   "execution_count": 110,
   "id": "4a47b6da",
   "metadata": {},
   "outputs": [
    {
     "data": {
      "text/plain": [
       "[1, 2, 3, 4, 5, 6, 7, 8, 9]"
      ]
     },
     "execution_count": 110,
     "metadata": {},
     "output_type": "execute_result"
    }
   ],
   "source": [
    "arr = [1,2,3,4,5,6,7,8,9]\n",
    "arr"
   ]
  },
  {
   "cell_type": "code",
   "execution_count": 111,
   "id": "d8aa08fb",
   "metadata": {},
   "outputs": [],
   "source": [
    "arr[4]=100"
   ]
  },
  {
   "cell_type": "code",
   "execution_count": 112,
   "id": "76c587c0",
   "metadata": {},
   "outputs": [
    {
     "ename": "TypeError",
     "evalue": "can only assign an iterable",
     "output_type": "error",
     "traceback": [
      "\u001b[1;31m---------------------------------------------------------------------------\u001b[0m",
      "\u001b[1;31mTypeError\u001b[0m                                 Traceback (most recent call last)",
      "Cell \u001b[1;32mIn[112], line 1\u001b[0m\n\u001b[1;32m----> 1\u001b[0m arr[\u001b[38;5;241m3\u001b[39m:]\u001b[38;5;241m=\u001b[39m\u001b[38;5;241m100\u001b[39m\n",
      "\u001b[1;31mTypeError\u001b[0m: can only assign an iterable"
     ]
    }
   ],
   "source": [
    "arr[3:]=100"
   ]
  },
  {
   "cell_type": "code",
   "execution_count": 113,
   "id": "f7f81e98",
   "metadata": {},
   "outputs": [
    {
     "ename": "TypeError",
     "evalue": "'<' not supported between instances of 'list' and 'int'",
     "output_type": "error",
     "traceback": [
      "\u001b[1;31m---------------------------------------------------------------------------\u001b[0m",
      "\u001b[1;31mTypeError\u001b[0m                                 Traceback (most recent call last)",
      "Cell \u001b[1;32mIn[113], line 5\u001b[0m\n\u001b[0;32m      1\u001b[0m \u001b[38;5;66;03m### Some conditions very useful in Exploratory Data Analysis \u001b[39;00m\n\u001b[0;32m      3\u001b[0m val\u001b[38;5;241m=\u001b[39m\u001b[38;5;241m2\u001b[39m\n\u001b[1;32m----> 5\u001b[0m arr[\u001b[43marr\u001b[49m\u001b[38;5;241;43m<\u001b[39;49m\u001b[38;5;241;43m3\u001b[39;49m]\n",
      "\u001b[1;31mTypeError\u001b[0m: '<' not supported between instances of 'list' and 'int'"
     ]
    }
   ],
   "source": [
    "### Some conditions very useful in Exploratory Data Analysis \n",
    "\n",
    "val=2\n",
    "\n",
    "arr[arr<3]"
   ]
  },
  {
   "cell_type": "code",
   "execution_count": 114,
   "id": "2086fd67",
   "metadata": {},
   "outputs": [
    {
     "data": {
      "text/plain": [
       "array([[0, 1],\n",
       "       [2, 3],\n",
       "       [4, 5],\n",
       "       [6, 7],\n",
       "       [8, 9]])"
      ]
     },
     "execution_count": 114,
     "metadata": {},
     "output_type": "execute_result"
    }
   ],
   "source": [
    "## Create arrays and reshape\n",
    "\n",
    "np.arange(0,10).reshape(5,2)"
   ]
  },
  {
   "cell_type": "code",
   "execution_count": 115,
   "id": "ae0c71ce",
   "metadata": {},
   "outputs": [],
   "source": [
    "arr1=np.arange(0,10).reshape(2,5)"
   ]
  },
  {
   "cell_type": "code",
   "execution_count": 116,
   "id": "321950dd",
   "metadata": {},
   "outputs": [],
   "source": [
    "arr2=np.arange(0,10).reshape(2,5)"
   ]
  },
  {
   "cell_type": "code",
   "execution_count": 117,
   "id": "68bd5053",
   "metadata": {},
   "outputs": [
    {
     "data": {
      "text/plain": [
       "array([[ 0,  1,  4,  9, 16],\n",
       "       [25, 36, 49, 64, 81]])"
      ]
     },
     "execution_count": 117,
     "metadata": {},
     "output_type": "execute_result"
    }
   ],
   "source": [
    "arr1*arr2"
   ]
  },
  {
   "cell_type": "code",
   "execution_count": 118,
   "id": "b0445f6b",
   "metadata": {},
   "outputs": [
    {
     "data": {
      "text/plain": [
       "array([[1, 1, 1, 1, 1],\n",
       "       [1, 1, 1, 1, 1]])"
      ]
     },
     "execution_count": 118,
     "metadata": {},
     "output_type": "execute_result"
    }
   ],
   "source": [
    "np.ones((2,5),dtype=int)"
   ]
  },
  {
   "cell_type": "code",
   "execution_count": 119,
   "id": "4227759b",
   "metadata": {},
   "outputs": [
    {
     "data": {
      "text/plain": [
       "array([[0.73901874, 0.04341629, 0.36514236],\n",
       "       [0.41547301, 0.40015495, 0.37522976],\n",
       "       [0.06831679, 0.89698464, 0.61157335]])"
      ]
     },
     "execution_count": 119,
     "metadata": {},
     "output_type": "execute_result"
    }
   ],
   "source": [
    "## random distribution\n",
    "np.random.rand(3,3)"
   ]
  },
  {
   "cell_type": "code",
   "execution_count": 120,
   "id": "74f81e6d",
   "metadata": {},
   "outputs": [],
   "source": [
    "arr_ex=np.random.randn(4,4)"
   ]
  },
  {
   "cell_type": "code",
   "execution_count": 121,
   "id": "19fcaf64",
   "metadata": {},
   "outputs": [
    {
     "data": {
      "text/plain": [
       "array([[ 2.49416577, -0.66002597, -1.53311836,  1.38367177],\n",
       "       [ 1.76890181,  1.19548279,  0.05137301, -0.42772285],\n",
       "       [ 1.10812216, -0.57993447,  2.01917022, -0.41592024],\n",
       "       [-0.4579003 , -2.11734264,  0.84195717, -0.24659669]])"
      ]
     },
     "execution_count": 121,
     "metadata": {},
     "output_type": "execute_result"
    }
   ],
   "source": [
    "arr_ex"
   ]
  },
  {
   "cell_type": "code",
   "execution_count": 122,
   "id": "831f15d8",
   "metadata": {},
   "outputs": [
    {
     "data": {
      "text/plain": [
       "array([[56, 97],\n",
       "       [ 5, 18],\n",
       "       [20, 33],\n",
       "       [72,  5]])"
      ]
     },
     "execution_count": 122,
     "metadata": {},
     "output_type": "execute_result"
    }
   ],
   "source": [
    "np.random.randint(0,100,8).reshape(4,2)"
   ]
  },
  {
   "cell_type": "code",
   "execution_count": 123,
   "id": "21d6627e",
   "metadata": {},
   "outputs": [
    {
     "data": {
      "text/plain": [
       "array([[0.72963021, 0.29780434, 0.66091544, 0.38754094, 0.9714446 ]])"
      ]
     },
     "execution_count": 123,
     "metadata": {},
     "output_type": "execute_result"
    }
   ],
   "source": [
    "np.random.random_sample((1,5))"
   ]
  },
  {
   "cell_type": "code",
   "execution_count": null,
   "id": "6f503a23",
   "metadata": {},
   "outputs": [],
   "source": []
  },
  {
   "cell_type": "code",
   "execution_count": null,
   "id": "d25b1e0d",
   "metadata": {},
   "outputs": [],
   "source": []
  }
 ],
 "metadata": {
  "kernelspec": {
   "display_name": "Python 3 (ipykernel)",
   "language": "python",
   "name": "python3"
  },
  "language_info": {
   "codemirror_mode": {
    "name": "ipython",
    "version": 3
   },
   "file_extension": ".py",
   "mimetype": "text/x-python",
   "name": "python",
   "nbconvert_exporter": "python",
   "pygments_lexer": "ipython3",
   "version": "3.10.9"
  }
 },
 "nbformat": 4,
 "nbformat_minor": 5
}
